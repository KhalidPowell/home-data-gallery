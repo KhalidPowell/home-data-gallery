{
 "cells": [
  {
   "cell_type": "markdown",
   "metadata": {},
   "source": [
    "### Census geocoding and address standardizing\n",
    "Submits an address to geocoding.geo.census.gov retunr the latitude, longitude and standardized address.\n",
    "Assumes only 1 address match."
   ]
  },
  {
   "cell_type": "code",
   "execution_count": 75,
   "metadata": {
    "collapsed": false
   },
   "outputs": [],
   "source": [
    "import sys\n",
    "import requests\n",
    "\n",
    "def census_geocode(address, benchmark=\"Public_AR_Current\"):\n",
    "    \"\"\"\n",
    "    Geocode documentation: \n",
    "    Benchmark option listed here: http://geocoding.geo.census.gov/geocoder/benchmarks\n",
    "    \"\"\"\n",
    "    uri = 'http://geocoding.geo.census.gov/geocoder/locations/onelineaddress'\n",
    "    params = { \n",
    "        \"address\": address, \n",
    "        \"benchmark\": benchmark,\n",
    "        \"format\": \"json\"\n",
    "    }\n",
    "    r = requests.get(uri,params)\n",
    "    data = r.json()\n",
    "    lon = data['result']['addressMatches'][0]['coordinates']['x']\n",
    "    lat = data['result']['addressMatches'][0]['coordinates']['y']\n",
    "    stdaddr = data['result']['addressMatches'][0]['matchedAddress']\n",
    "    return lat, lon, stdaddr"
   ]
  },
  {
   "cell_type": "code",
   "execution_count": 76,
   "metadata": {
    "collapsed": false
   },
   "outputs": [
    {
     "name": "stdout",
     "output_type": "stream",
     "text": [
      "Latitude: 39.75278, Longitude: -104.99983, \n",
      "Standardized address: 1701 WYNKOOP ST, DENVER, CO, 80202\n"
     ]
    }
   ],
   "source": [
    "addr = \"1701 Wynkoop Street, Denver, CO 80202\"\n",
    "lat, lon, std = census_geocode(addr)\n",
    "print('Latitude: {0}, Longitude: {1}, \\nStandardized address: {2}'.format(lat, lon, std))"
   ]
  },
  {
   "cell_type": "code",
   "execution_count": null,
   "metadata": {
    "collapsed": true
   },
   "outputs": [],
   "source": []
  }
 ],
 "metadata": {
  "kernelspec": {
   "display_name": "Python 3",
   "language": "python",
   "name": "python3"
  },
  "language_info": {
   "codemirror_mode": {
    "name": "ipython",
    "version": 3
   },
   "file_extension": ".py",
   "mimetype": "text/x-python",
   "name": "python",
   "nbconvert_exporter": "python",
   "pygments_lexer": "ipython3",
   "version": "3.5.1"
  }
 },
 "nbformat": 4,
 "nbformat_minor": 0
}
